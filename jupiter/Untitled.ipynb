{
 "cells": [
  {
   "cell_type": "code",
   "execution_count": 1,
   "id": "eb86d569-3ea7-4444-a0a8-743c3deca806",
   "metadata": {},
   "outputs": [],
   "source": [
    "a=5\n",
    "b=6 "
   ]
  },
  {
   "cell_type": "code",
   "execution_count": 2,
   "id": "d1a7953c-5db3-4caa-b146-644bbe425158",
   "metadata": {},
   "outputs": [],
   "source": [
    "def suma(a,b):\n",
    "    return a +b"
   ]
  },
  {
   "cell_type": "code",
   "execution_count": 3,
   "id": "1ab51504-909c-474f-8551-4644e55358bb",
   "metadata": {},
   "outputs": [
    {
     "name": "stdout",
     "output_type": "stream",
     "text": [
      "5\n"
     ]
    },
    {
     "data": {
      "text/plain": [
       "11"
      ]
     },
     "execution_count": 3,
     "metadata": {},
     "output_type": "execute_result"
    }
   ],
   "source": [
    "print(a)\n",
    "suma(a,b)"
   ]
  },
  {
   "cell_type": "code",
   "execution_count": 4,
   "id": "82f7a287-7582-47d1-b5b3-354b02240e53",
   "metadata": {},
   "outputs": [
    {
     "name": "stdout",
     "output_type": "stream",
     "text": [
      "1\n"
     ]
    }
   ],
   "source": [
    "print(b-a)"
   ]
  },
  {
   "cell_type": "code",
   "execution_count": 6,
   "id": "ba44a336-b8c6-4d7a-a91a-469fc5871c95",
   "metadata": {},
   "outputs": [
    {
     "name": "stdout",
     "output_type": "stream",
     "text": [
      "-1\n"
     ]
    }
   ],
   "source": [
    "print(a-b)"
   ]
  },
  {
   "cell_type": "code",
   "execution_count": null,
   "id": "42a76d58-b4f9-4af7-8533-2fc3d8ece27b",
   "metadata": {},
   "outputs": [],
   "source": []
  }
 ],
 "metadata": {
  "kernelspec": {
   "display_name": "Python [conda env:base] *",
   "language": "python",
   "name": "conda-base-py"
  },
  "language_info": {
   "codemirror_mode": {
    "name": "ipython",
    "version": 3
   },
   "file_extension": ".py",
   "mimetype": "text/x-python",
   "name": "python",
   "nbconvert_exporter": "python",
   "pygments_lexer": "ipython3",
   "version": "3.13.5"
  }
 },
 "nbformat": 4,
 "nbformat_minor": 5
}
